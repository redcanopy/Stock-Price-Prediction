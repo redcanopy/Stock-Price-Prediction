{
 "cells": [
  {
   "cell_type": "code",
   "execution_count": null,
   "id": "0efa35d2-a482-4b9b-b77f-cffc530b106e",
   "metadata": {},
   "outputs": [],
   "source": [
    "# Import all necessary libraries and utility functions\n",
    "import math\n",
    "import pandas as pd\n",
    "import numpy as np\n",
    "import lightgbm as lgb\n",
    "import matplotlib.pyplot as plt\n",
    "\n",
    "from sklearn.metrics import mean_squared_error, mean_absolute_percentage_error"
   ]
  },
  {
   "cell_type": "code",
   "execution_count": null,
   "id": "6a7625bc-1d9b-444b-859d-6cbeb4fefe12",
   "metadata": {},
   "outputs": [],
   "source": [
    "# Import dataset to be used for training and testing\n",
    "AAPL = pd.read_csv(\"./Database/Pre_Processed_AAPL.csv\")\n",
    "AMZN = pd.read_csv(\"./Database/Pre_Processed_AMZN.csv\")\n",
    "GOOG = pd.read_csv(\"./Database/Pre_Processed_GOOG.csv\")\n",
    "MSFT = pd.read_csv(\"./Database/Pre_Processed_MSFT.csv\")\n",
    "TSLA = pd.read_csv(\"./Database/Pre_Processed_TSLA.csv\")"
   ]
  },
  {
   "cell_type": "markdown",
   "id": "722fb220-b414-4a34-a7e7-882b344b1045",
   "metadata": {},
   "source": [
    "### Data Preprocessing"
   ]
  },
  {
   "cell_type": "code",
   "execution_count": null,
   "id": "20a5dcef-c5e9-4df7-a558-c91cc9ade6ce",
   "metadata": {},
   "outputs": [],
   "source": [
    "# Shape the data to for use with LightGBM\n",
    "def prep_data(data, split_date):\n",
    "    data['Date'] = pd.to_datetime(data['Date'])\n",
    "\n",
    "    \n",
    "    ######################## Feature engineering using Stock Market Indicators ######################## \n",
    "    # Introduce lag featues into the dataset (90 days lag)\n",
    "    lag_features = {f'lag_{lag}': data['Adj. Close'].shift(lag) for lag in range(1, 91)}\n",
    "\n",
    "    # Moving Average Convergence/Divergence (MACD) feature\n",
    "    def ema(series, span):\n",
    "        return series.ewm(span=span, adjust=False).mean()\n",
    "    \n",
    "    ema_fast = ema(data['Adj. Close'], 12)\n",
    "    ema_slow = ema(data['Adj. Close'], 26)\n",
    "    macd = ema_fast - ema_slow\n",
    "    macd_signal = ema(macd, 9)\n",
    "    macd_features = {\n",
    "        'ema_fast': ema_fast,\n",
    "        'ema_slow': ema_slow,\n",
    "        'macd': macd,\n",
    "        'macd_signal': macd_signal,\n",
    "        'macd_diff': macd - macd_signal\n",
    "    }\n",
    "        \n",
    "\n",
    "    # Moving Averages (MA) feature\n",
    "    ma_features = {f'ma_{window}': data['Adj. Close'].rolling(window=window).mean() \n",
    "                   for window in [30, 60, 90, 120, 150, 180, 210]}\n",
    "\n",
    "    # Relative Strenght Index (RSI) feature\n",
    "    delta = data['Adj. Close'].diff()\n",
    "    gain = delta.where(delta > 0, 0)\n",
    "    loss = -delta.where(delta < 0, 0)\n",
    "    window = 14\n",
    "    avg_gain = gain.rolling(window=window).mean()\n",
    "    avg_loss = loss.rolling(window=window).mean()\n",
    "    rs = avg_gain / (avg_loss + 1e-10)\n",
    "    rsi = 100 - (100 / (1 + rs))\n",
    "    rsi_features = {'rsi': rsi}\n",
    "    \n",
    "    # Stochastic Oscillator (Stoch) features\n",
    "    lowest_low = data['Low'].rolling(window=14).min()\n",
    "    highest_high = data['High'].rolling(window=14).max()\n",
    "    stoch_k = ((data['Adj. Close'] - lowest_low) / (highest_high - lowest_low)) * 100\n",
    "    stoch_d = stoch_k.rolling(3).mean()\n",
    "    stoch_features = {'stoch_k': stoch_k, 'stoch_d': stoch_d}\n",
    "\n",
    "    # MESA Sine Wave features\n",
    "    mesa_sine_wave = np.sin(data['Adj. Close'].pct_change().cumsum())\n",
    "    mesa_features = {'mesa_sine_wave': mesa_sine_wave}\n",
    "    \n",
    "    ################################################################################################  \n",
    "\n",
    "    # All market indicators features object\n",
    "    all_features = {\n",
    "        **lag_features,\n",
    "        **macd_features,\n",
    "        **ma_features,\n",
    "        **rsi_features,\n",
    "        **stoch_features,\n",
    "        **mesa_features,\n",
    "    }\n",
    "\n",
    "    # Concatenate all features into the original DataFrame\n",
    "    data = pd.concat([data, pd.DataFrame(all_features)], axis=1)\n",
    "\n",
    "    # Drop rows with NaN values introduced from feature engineering\n",
    "    data.replace([np.inf, -np.inf], np.nan, inplace=True)\n",
    "    data.dropna(inplace=True)\n",
    "\n",
    "    train_data = data[data['Date'] < split_date]\n",
    "    test_data = data[data['Date'] >= split_date]\n",
    "\n",
    "    features = [col for col in data.columns if col not in ['Date', 'Adj. Close', 'target']]\n",
    "    target = 'Adj. Close'\n",
    "\n",
    "    X_train, y_train = train_data[features], train_data[target]\n",
    "    X_test, y_test = test_data[features], test_data[target]\n",
    "\n",
    "    return X_train, y_train, X_test, y_test"
   ]
  },
  {
   "cell_type": "markdown",
   "id": "7a46fd56-7d38-4c62-8ea2-7a0c7e8d52ff",
   "metadata": {},
   "source": [
    "### LightGBM Model"
   ]
  },
  {
   "cell_type": "code",
   "execution_count": null,
   "id": "b8ce475d-3a80-4d0a-a469-2e72e12006b8",
   "metadata": {},
   "outputs": [],
   "source": [
    "# Function to train and test LightGBM model \n",
    "def lightgbm_model(X_train, y_train, X_test, y_test):\n",
    "    train_data = lgb.Dataset(X_train, label=y_train)\n",
    "    test_data = lgb.Dataset(X_test, label=y_test, reference=train_data)\n",
    "\n",
    "    params = {\n",
    "        \"objective\": \"regression\",\n",
    "        \"metric\": \"rmse\",\n",
    "        \"boosting_type\": \"gbdt\",\n",
    "        \"learning_rate\": 0.01,\n",
    "        \"num_leaves\": 200,\n",
    "        \"max_depth\": -1,\n",
    "        \"feature_fraction\": 1.0,\n",
    "        \"bagging_fraction\": 1.0,\n",
    "        \"bagging_freq\": 5,\n",
    "        \"lambda_l1\": 0.001,\n",
    "        \"lambda_l2\": 0.001,\n",
    "        \"verbose\": -1\n",
    "    }\n",
    "\n",
    "    model = lgb.train(\n",
    "        params,\n",
    "        train_data,\n",
    "        valid_sets=[train_data, test_data],\n",
    "        num_boost_round=150000,\n",
    "        callbacks=[lgb.early_stopping(stopping_rounds=200)]\n",
    "    )\n",
    "\n",
    "    predictions = model.predict(X_test, num_iteration=model.best_iteration)\n",
    "\n",
    "    return model, predictions"
   ]
  },
  {
   "cell_type": "markdown",
   "id": "09f906ef-b359-4900-bfbf-cf471f6b5440",
   "metadata": {},
   "source": [
    "# Apple"
   ]
  },
  {
   "cell_type": "markdown",
   "id": "ad00d78c-3118-4e64-97b0-5845ddd01d5f",
   "metadata": {},
   "source": [
    "### Model Fitting & Prediction"
   ]
  },
  {
   "cell_type": "code",
   "execution_count": null,
   "id": "c03507c1-f442-452b-984d-f0731f0d2104",
   "metadata": {},
   "outputs": [],
   "source": [
    "# Date seperation for training, testing and predicitions\n",
    "split_date = \"2020-10-01\"\n",
    "\n",
    "# Training and testing data preparation\n",
    "aapl_x_train, aapl_y_train, aapl_x_test, aapl_y_test = prep_data(AAPL, split_date)\n",
    "\n",
    "# Model training\n",
    "lgb_aapl_model, lgb_aapl_pred = lightgbm_model(aapl_x_train, aapl_y_train, aapl_x_test, aapl_y_test)\n",
    "AAPL_prediction = lgb_aapl_pred\n",
    "print(\"Shape of Prediction: \",AAPL_prediction.shape)\n",
    "\n",
    "# Model performance metrics\n",
    "rmse = math.sqrt(mean_squared_error(aapl_y_test, lgb_aapl_pred))\n",
    "mape = mean_absolute_percentage_error(aapl_y_test, lgb_aapl_pred)\n",
    "\n",
    "# Print results of performance metrics for comparison with authors regression models\n",
    "print(f'RMSE: {rmse}')\n",
    "print(f'MAPE: {mape}')\n",
    "\n",
    "# Plot similar stock market prediction graph to the research paper for comparison\n",
    "plt.figure(figsize=(20, 5))\n",
    "plt.plot(AAPL['Date'][AAPL['Date'] < split_date], AAPL['Adj. Close'][AAPL['Date'] < split_date], label = 'Training')\n",
    "plt.plot(AAPL['Date'][AAPL['Date'] >= split_date], AAPL['Adj. Close'][AAPL['Date'] >= split_date], label = 'Testing')\n",
    "plt.plot(AAPL['Date'][AAPL['Date'] >= split_date], AAPL_prediction, label = 'Predictions')\n",
    "plt.xlabel('Time')\n",
    "plt.ylabel('Closing Price')\n",
    "plt.legend(loc = 'best')"
   ]
  },
  {
   "cell_type": "markdown",
   "id": "82ed4073-c0cc-41b7-9a59-3b22f9aeb0b9",
   "metadata": {},
   "source": [
    "# Tesla"
   ]
  },
  {
   "cell_type": "markdown",
   "id": "d71c3fac-74cc-4caa-a847-753fe54198ce",
   "metadata": {},
   "source": [
    "### Model Fitting & Prediction"
   ]
  },
  {
   "cell_type": "code",
   "execution_count": null,
   "id": "8fcdb7e5-3a02-4057-9965-88005d88e439",
   "metadata": {},
   "outputs": [],
   "source": [
    "# Training and testing data preparation\n",
    "tsla_x_train, tsla_y_train, tsla_x_test, tsla_y_test = prep_data(TSLA, split_date)\n",
    "\n",
    "# Model training\n",
    "lgb_tsla_model, lgb_tsla_pred = lightgbm_model(tsla_x_train, tsla_y_train, tsla_x_test, tsla_y_test)\n",
    "TSLA_prediction = lgb_tsla_pred\n",
    "\n",
    "# Model performance metrics\n",
    "rmse = math.sqrt(mean_squared_error(tsla_y_test, lgb_tsla_pred))\n",
    "mape = mean_absolute_percentage_error(tsla_y_test, lgb_tsla_pred)\n",
    "\n",
    "# Print results of performance metrics for comparison with authors regression models\n",
    "print(f'RMSE: {rmse}')\n",
    "print(f'MAPE: {mape}')\n",
    "\n",
    "# Plot similar stock market prediction graph to the research paper for comparison\n",
    "plt.figure(figsize=(20, 5))\n",
    "plt.plot(TSLA['Date'][TSLA['Date'] < split_date], TSLA['Adj. Close'][TSLA['Date'] < split_date], label = 'Training')\n",
    "plt.plot(TSLA['Date'][TSLA['Date'] >= split_date], TSLA['Adj. Close'][TSLA['Date'] >= split_date], label = 'Testing')\n",
    "plt.plot(TSLA['Date'][TSLA['Date'] >= split_date], TSLA_prediction, label = 'Predictions')\n",
    "plt.xlabel('Time')\n",
    "plt.ylabel('Closing Price')\n",
    "plt.legend(loc = 'best')"
   ]
  },
  {
   "cell_type": "markdown",
   "id": "db573a55-1a77-4c3b-9b73-f114ef75d575",
   "metadata": {},
   "source": [
    "# Google"
   ]
  },
  {
   "cell_type": "markdown",
   "id": "71198bc7-d45f-49f8-a10a-5e96a9da0010",
   "metadata": {},
   "source": [
    "### Model Fitting & Prediction"
   ]
  },
  {
   "cell_type": "code",
   "execution_count": null,
   "id": "47ff2cf2-f582-4758-8a29-fb4e0abac8f0",
   "metadata": {},
   "outputs": [],
   "source": [
    "# Training and testing data preparation\n",
    "goog_x_train, goog_y_train, goog_x_test, goog_y_test = prep_data(GOOG, split_date)\n",
    "\n",
    "# Model training\n",
    "lgb_goog_model, lgb_goog_pred = lightgbm_model(goog_x_train, goog_y_train, goog_x_test, goog_y_test)\n",
    "GOOG_prediction = lgb_goog_pred\n",
    "\n",
    "# Model performance metrics\n",
    "rmse = math.sqrt(mean_squared_error(goog_y_test, lgb_goog_pred))\n",
    "mape = mean_absolute_percentage_error(goog_y_test, lgb_goog_pred)\n",
    "\n",
    "# Print results of performance metrics for comparison with authors regression models\n",
    "print(f'RMSE: {rmse}')\n",
    "print(f'MAPE: {mape}')\n",
    "\n",
    "# Plot similar stock market prediction graph to the research paper for comparison\n",
    "plt.figure(figsize=(20, 5))\n",
    "plt.plot(GOOG['Date'][GOOG['Date'] < split_date], GOOG['Adj. Close'][GOOG['Date'] < split_date], label = 'Training')\n",
    "plt.plot(GOOG['Date'][GOOG['Date'] >= split_date], GOOG['Adj. Close'][GOOG['Date'] >= split_date], label = 'Testing')\n",
    "plt.plot(GOOG['Date'][GOOG['Date'] >= split_date], GOOG_prediction, label = 'Predictions')\n",
    "plt.xlabel('Time')\n",
    "plt.ylabel('Closing Price')\n",
    "plt.legend(loc = 'best')"
   ]
  },
  {
   "cell_type": "markdown",
   "id": "c50067b6-0bef-4dad-a2a4-89a5f99a9934",
   "metadata": {},
   "source": [
    "# Microsoft"
   ]
  },
  {
   "cell_type": "markdown",
   "id": "614c6eaa-146f-4da3-b2be-2a6123e6e518",
   "metadata": {},
   "source": [
    "### Model Fitting & Prediction"
   ]
  },
  {
   "cell_type": "code",
   "execution_count": null,
   "id": "b3e8a11c-6180-4139-8f13-ad3a81869170",
   "metadata": {},
   "outputs": [],
   "source": [
    "# Training and testing data preparation\n",
    "msft_x_train, msft_y_train, msft_x_test, msft_y_test = prep_data(MSFT, split_date)\n",
    "\n",
    "# Training and testing data preparation\n",
    "lgb_msft_model, lgb_msft_pred = lightgbm_model(msft_x_train, msft_y_train, msft_x_test, msft_y_test)\n",
    "MSFT_prediction = lgb_msft_pred\n",
    "\n",
    "# Model performance metrics\n",
    "rmse = math.sqrt(mean_squared_error(msft_y_test, lgb_msft_pred))\n",
    "mape = mean_absolute_percentage_error(msft_y_test, lgb_msft_pred)\n",
    "\n",
    "# Print results of performance metrics for comparison with authors regression models\n",
    "print(f'RMSE: {rmse}')\n",
    "print(f'MAPE: {mape}')\n",
    "\n",
    "# Plot similar stock market prediction graph to the research paper for comparison\n",
    "plt.figure(figsize=(20, 5))\n",
    "plt.plot(MSFT['Date'][MSFT['Date'] < split_date], MSFT['Adj. Close'][MSFT['Date'] < split_date], label = 'Training')\n",
    "plt.plot(MSFT['Date'][MSFT['Date'] >= split_date], MSFT['Adj. Close'][MSFT['Date'] >= split_date], label = 'Testing')\n",
    "plt.plot(MSFT['Date'][MSFT['Date'] >= split_date], MSFT_prediction, label = 'Predictions')\n",
    "plt.xlabel('Time')\n",
    "plt.ylabel('Closing Price')\n",
    "plt.legend(loc = 'best')"
   ]
  },
  {
   "cell_type": "markdown",
   "id": "c8dd0d63-7427-4abb-bb7e-573fabb44272",
   "metadata": {},
   "source": [
    "# Amazon"
   ]
  },
  {
   "cell_type": "markdown",
   "id": "7ded1bee-76ae-488c-95ff-1f4e4df7806f",
   "metadata": {},
   "source": [
    "### Model Fitting & Prediction"
   ]
  },
  {
   "cell_type": "code",
   "execution_count": null,
   "id": "cb15552b-19c1-4dd0-862f-1b96bb0fcf94",
   "metadata": {},
   "outputs": [],
   "source": [
    "# Training and testing data preparation\n",
    "amzn_x_train, amzn_y_train, amzn_x_test, amzn_y_test = prep_data(AMZN, split_date)\n",
    "\n",
    "# Model training\n",
    "lgb_amzn_model, lgb_amzn_pred = lightgbm_model(amzn_x_train, amzn_y_train, amzn_x_test, amzn_y_test)\n",
    "AMZN_prediction = lgb_amzn_pred\n",
    "\n",
    "# Model performance metrics\n",
    "rmse = math.sqrt(mean_squared_error(amzn_y_test, lgb_amzn_pred))\n",
    "mape = mean_absolute_percentage_error(amzn_y_test, lgb_amzn_pred)\n",
    "\n",
    "# Print results of performance metrics for comparison with authors regression models\n",
    "print(f'RMSE: {rmse}')\n",
    "print(f'MAPE: {mape}')\n",
    "\n",
    "# Plot similar stock market prediction graph to the research paper for comparison\n",
    "plt.figure(figsize=(20, 5))\n",
    "plt.plot(AMZN['Date'][AMZN['Date'] < split_date], AMZN['Adj. Close'][AMZN['Date'] < split_date], label = 'Training')\n",
    "plt.plot(AMZN['Date'][AMZN['Date'] >= split_date], AMZN['Adj. Close'][AMZN['Date'] >= split_date], label = 'Testing')\n",
    "plt.plot(AMZN['Date'][AMZN['Date'] >= split_date], AMZN_prediction, label = 'Predictions')\n",
    "plt.xlabel('Time')\n",
    "plt.ylabel('Closing Price')\n",
    "plt.legend(loc = 'best')"
   ]
  }
 ],
 "metadata": {
  "kernelspec": {
   "display_name": "Python 3 (ipykernel)",
   "language": "python",
   "name": "python3"
  },
  "language_info": {
   "codemirror_mode": {
    "name": "ipython",
    "version": 3
   },
   "file_extension": ".py",
   "mimetype": "text/x-python",
   "name": "python",
   "nbconvert_exporter": "python",
   "pygments_lexer": "ipython3",
   "version": "3.8.6"
  }
 },
 "nbformat": 4,
 "nbformat_minor": 5
}
